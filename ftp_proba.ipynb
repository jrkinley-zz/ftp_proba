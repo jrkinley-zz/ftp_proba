{
 "cells": [
  {
   "cell_type": "markdown",
   "metadata": {},
   "source": [
    "**Predicting Functional Threshold Power (FTP)**"
   ]
  },
  {
   "cell_type": "code",
   "execution_count": 27,
   "metadata": {},
   "outputs": [
    {
     "name": "stdout",
     "output_type": "stream",
     "text": [
      "                               email firstname lastname sex  weight    0\n",
      "id                                                                      \n",
      "2163639        alun.hanford@live.com      Alun  Hanford   M    68.0  523\n",
      "4917647  jamesrobertkinley@gmail.com     James   Kinley   M    68.0  261\n"
     ]
    }
   ],
   "source": [
    "import os\n",
    "import pandas as pd\n",
    "import strava_export as strava\n",
    "\n",
    "athletes = pd.read_csv(\n",
    "    os.path.join(strava.pro_dir, 'athletes.csv'),\n",
    "    index_col = 'id'\n",
    ")\n",
    "\n",
    "rides = pd.read_csv(\n",
    "    os.path.join(strava.pro_dir, 'rides.csv'),\n",
    "    index_col = ['id', 'timestamp']\n",
    ")\n",
    "\n",
    "rc = rides.groupby('id').size()\n",
    "athletes = athletes.merge(rc.to_frame(), left_index=True, right_index=True)\n",
    "print(athletes)"
   ]
  },
  {
   "cell_type": "code",
   "execution_count": null,
   "metadata": {},
   "outputs": [],
   "source": []
  },
  {
   "cell_type": "code",
   "execution_count": null,
   "metadata": {},
   "outputs": [],
   "source": []
  }
 ],
 "metadata": {
  "kernelspec": {
   "display_name": "Python 3",
   "language": "python",
   "name": "python3"
  },
  "language_info": {
   "codemirror_mode": {
    "name": "ipython",
    "version": 3
   },
   "file_extension": ".py",
   "mimetype": "text/x-python",
   "name": "python",
   "nbconvert_exporter": "python",
   "pygments_lexer": "ipython3",
   "version": "3.6.5"
  }
 },
 "nbformat": 4,
 "nbformat_minor": 2
}
